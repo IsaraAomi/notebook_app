{
 "cells": [
  {
   "cell_type": "markdown",
   "metadata": {},
   "source": [
    "# App"
   ]
  },
  {
   "cell_type": "markdown",
   "metadata": {},
   "source": [
    "## Module1\n",
    "- Python example\n",
    "- Rotate image"
   ]
  },
  {
   "cell_type": "code",
   "execution_count": null,
   "metadata": {},
   "outputs": [],
   "source": [
    "import os\n",
    "from python import *\n",
    "\n",
    "current_dir = os.getcwd()\n",
    "module1_input_path = os.path.join(current_dir, \"data\", \"Lenna.png\")\n",
    "module1_output_path = os.path.join(current_dir, \"data\", \"Lenna_m1out.png\")\n",
    "form1 = FormModule1()\n",
    "form1.create_form(input_path=module1_input_path, output_path=module1_output_path)"
   ]
  },
  {
   "cell_type": "markdown",
   "metadata": {},
   "source": [
    "## Module2\n",
    "- C++ example\n",
    "  - Required: opencv, cmake\n",
    "    ```shell\n",
    "    sudo apt install libopencv-dev cmake\n",
    "    ```\n",
    "- Gray scale with brightness change"
   ]
  },
  {
   "cell_type": "code",
   "execution_count": null,
   "metadata": {},
   "outputs": [],
   "source": [
    "import os\n",
    "from python import *\n",
    "\n",
    "current_dir = os.getcwd()\n",
    "module2_input_path = os.path.join(current_dir, \"data\", \"Lenna_m1out.png\")\n",
    "module2_output_path = os.path.join(current_dir, \"data\", \"Lenna_m1out_m2out.png\")\n",
    "form2 = FormModule2()\n",
    "form2.create_form(input_path=module2_input_path, output_path=module2_output_path)"
   ]
  }
 ],
 "metadata": {
  "kernelspec": {
   "display_name": "Python 3",
   "language": "python",
   "name": "python3"
  },
  "language_info": {
   "codemirror_mode": {
    "name": "ipython",
    "version": 3
   },
   "file_extension": ".py",
   "mimetype": "text/x-python",
   "name": "python",
   "nbconvert_exporter": "python",
   "pygments_lexer": "ipython3",
   "version": "3.10.10"
  },
  "orig_nbformat": 4
 },
 "nbformat": 4,
 "nbformat_minor": 2
}
